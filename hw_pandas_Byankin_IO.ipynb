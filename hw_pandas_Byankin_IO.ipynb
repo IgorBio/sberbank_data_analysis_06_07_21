{
  "nbformat": 4,
  "nbformat_minor": 0,
  "metadata": {
    "colab": {
      "name": "hw_pandas_Byankin_IO.ipynb",
      "provenance": []
    },
    "kernelspec": {
      "name": "python3",
      "display_name": "Python 3"
    },
    "language_info": {
      "name": "python"
    }
  },
  "cells": [
    {
      "cell_type": "markdown",
      "metadata": {
        "id": "vCgM98X9BcDJ"
      },
      "source": [
        "#Анализ причин выжимаемости на Титанике\n",
        "В качестве первого домашнего задания Вам предстоит сформулировать и проверить гипотезы о причинах выживаемости на Титанике. Необходимые данные можно найти на GitHub курса, описание к данным на сайте соревнований по анализу данных [Kaggle](https://www.kaggle.com/c/titanic/data).\n",
        "\n",
        "Критерии оценивания:\n",
        "\n",
        "- Четко сформулированы гипотезы и выводы из них\n",
        "- Гипотез не меньше 3-х\n",
        "- Присутствуют кросс-признаковые гипотезы (например, процент выживаемости среди молодых женщин: пол + возраст)\n",
        "- Использованы группировки .groupby() с агрегированием .aggregate(), трансформацией .transform() или фильтрацией .filter() данных\n",
        "- Присутствует визуализация\n",
        "- Присутствует общий вывод исследования"
      ]
    },
    {
      "cell_type": "code",
      "metadata": {
        "id": "UwHEcBdyBKdM"
      },
      "source": [
        "import pandas as pd\n",
        "import numpy as np"
      ],
      "execution_count": 1,
      "outputs": []
    },
    {
      "cell_type": "code",
      "metadata": {
        "colab": {
          "base_uri": "https://localhost:8080/",
          "height": 202
        },
        "id": "xO3qyUQPBcuE",
        "outputId": "9762dc35-4e5f-4ff6-934d-0d4228bb7f6f"
      },
      "source": [
        "df = pd.read_csv('https://raw.githubusercontent.com/IgorBio/sberbank_data_analysis_06_07_21/master/data/titanic/train.csv')\n",
        "df.head()"
      ],
      "execution_count": 2,
      "outputs": [
        {
          "output_type": "execute_result",
          "data": {
            "text/html": [
              "<div>\n",
              "<style scoped>\n",
              "    .dataframe tbody tr th:only-of-type {\n",
              "        vertical-align: middle;\n",
              "    }\n",
              "\n",
              "    .dataframe tbody tr th {\n",
              "        vertical-align: top;\n",
              "    }\n",
              "\n",
              "    .dataframe thead th {\n",
              "        text-align: right;\n",
              "    }\n",
              "</style>\n",
              "<table border=\"1\" class=\"dataframe\">\n",
              "  <thead>\n",
              "    <tr style=\"text-align: right;\">\n",
              "      <th></th>\n",
              "      <th>PassengerId</th>\n",
              "      <th>Survived</th>\n",
              "      <th>Pclass</th>\n",
              "      <th>Name</th>\n",
              "      <th>Sex</th>\n",
              "      <th>Age</th>\n",
              "      <th>SibSp</th>\n",
              "      <th>Parch</th>\n",
              "      <th>Ticket</th>\n",
              "      <th>Fare</th>\n",
              "      <th>Cabin</th>\n",
              "      <th>Embarked</th>\n",
              "    </tr>\n",
              "  </thead>\n",
              "  <tbody>\n",
              "    <tr>\n",
              "      <th>0</th>\n",
              "      <td>1</td>\n",
              "      <td>0</td>\n",
              "      <td>3</td>\n",
              "      <td>Braund, Mr. Owen Harris</td>\n",
              "      <td>male</td>\n",
              "      <td>22.0</td>\n",
              "      <td>1</td>\n",
              "      <td>0</td>\n",
              "      <td>A/5 21171</td>\n",
              "      <td>7.2500</td>\n",
              "      <td>NaN</td>\n",
              "      <td>S</td>\n",
              "    </tr>\n",
              "    <tr>\n",
              "      <th>1</th>\n",
              "      <td>2</td>\n",
              "      <td>1</td>\n",
              "      <td>1</td>\n",
              "      <td>Cumings, Mrs. John Bradley (Florence Briggs Th...</td>\n",
              "      <td>female</td>\n",
              "      <td>38.0</td>\n",
              "      <td>1</td>\n",
              "      <td>0</td>\n",
              "      <td>PC 17599</td>\n",
              "      <td>71.2833</td>\n",
              "      <td>C85</td>\n",
              "      <td>C</td>\n",
              "    </tr>\n",
              "    <tr>\n",
              "      <th>2</th>\n",
              "      <td>3</td>\n",
              "      <td>1</td>\n",
              "      <td>3</td>\n",
              "      <td>Heikkinen, Miss. Laina</td>\n",
              "      <td>female</td>\n",
              "      <td>26.0</td>\n",
              "      <td>0</td>\n",
              "      <td>0</td>\n",
              "      <td>STON/O2. 3101282</td>\n",
              "      <td>7.9250</td>\n",
              "      <td>NaN</td>\n",
              "      <td>S</td>\n",
              "    </tr>\n",
              "    <tr>\n",
              "      <th>3</th>\n",
              "      <td>4</td>\n",
              "      <td>1</td>\n",
              "      <td>1</td>\n",
              "      <td>Futrelle, Mrs. Jacques Heath (Lily May Peel)</td>\n",
              "      <td>female</td>\n",
              "      <td>35.0</td>\n",
              "      <td>1</td>\n",
              "      <td>0</td>\n",
              "      <td>113803</td>\n",
              "      <td>53.1000</td>\n",
              "      <td>C123</td>\n",
              "      <td>S</td>\n",
              "    </tr>\n",
              "    <tr>\n",
              "      <th>4</th>\n",
              "      <td>5</td>\n",
              "      <td>0</td>\n",
              "      <td>3</td>\n",
              "      <td>Allen, Mr. William Henry</td>\n",
              "      <td>male</td>\n",
              "      <td>35.0</td>\n",
              "      <td>0</td>\n",
              "      <td>0</td>\n",
              "      <td>373450</td>\n",
              "      <td>8.0500</td>\n",
              "      <td>NaN</td>\n",
              "      <td>S</td>\n",
              "    </tr>\n",
              "  </tbody>\n",
              "</table>\n",
              "</div>"
            ],
            "text/plain": [
              "   PassengerId  Survived  Pclass  ...     Fare Cabin  Embarked\n",
              "0            1         0       3  ...   7.2500   NaN         S\n",
              "1            2         1       1  ...  71.2833   C85         C\n",
              "2            3         1       3  ...   7.9250   NaN         S\n",
              "3            4         1       1  ...  53.1000  C123         S\n",
              "4            5         0       3  ...   8.0500   NaN         S\n",
              "\n",
              "[5 rows x 12 columns]"
            ]
          },
          "metadata": {
            "tags": []
          },
          "execution_count": 2
        }
      ]
    },
    {
      "cell_type": "markdown",
      "metadata": {
        "id": "BYwrn7R91OP2"
      },
      "source": [
        "В предположении о влиянии на выживаемость признака \"Стоимость билета\" сформулированы кросс-признаковые гипотезы в связке с Fare, разбитым на интервалы в соответствии с распределением."
      ]
    },
    {
      "cell_type": "code",
      "metadata": {
        "colab": {
          "base_uri": "https://localhost:8080/",
          "height": 202
        },
        "id": "SCCHGKMg2t8g",
        "outputId": "13012f1a-88b8-46a1-fcb3-23aced473809"
      },
      "source": [
        "df['Fare_quantils'] = pd.qcut(df['Fare'], 7)\n",
        "df.head()"
      ],
      "execution_count": 3,
      "outputs": [
        {
          "output_type": "execute_result",
          "data": {
            "text/html": [
              "<div>\n",
              "<style scoped>\n",
              "    .dataframe tbody tr th:only-of-type {\n",
              "        vertical-align: middle;\n",
              "    }\n",
              "\n",
              "    .dataframe tbody tr th {\n",
              "        vertical-align: top;\n",
              "    }\n",
              "\n",
              "    .dataframe thead th {\n",
              "        text-align: right;\n",
              "    }\n",
              "</style>\n",
              "<table border=\"1\" class=\"dataframe\">\n",
              "  <thead>\n",
              "    <tr style=\"text-align: right;\">\n",
              "      <th></th>\n",
              "      <th>PassengerId</th>\n",
              "      <th>Survived</th>\n",
              "      <th>Pclass</th>\n",
              "      <th>Name</th>\n",
              "      <th>Sex</th>\n",
              "      <th>Age</th>\n",
              "      <th>SibSp</th>\n",
              "      <th>Parch</th>\n",
              "      <th>Ticket</th>\n",
              "      <th>Fare</th>\n",
              "      <th>Cabin</th>\n",
              "      <th>Embarked</th>\n",
              "      <th>Fare_quantils</th>\n",
              "    </tr>\n",
              "  </thead>\n",
              "  <tbody>\n",
              "    <tr>\n",
              "      <th>0</th>\n",
              "      <td>1</td>\n",
              "      <td>0</td>\n",
              "      <td>3</td>\n",
              "      <td>Braund, Mr. Owen Harris</td>\n",
              "      <td>male</td>\n",
              "      <td>22.0</td>\n",
              "      <td>1</td>\n",
              "      <td>0</td>\n",
              "      <td>A/5 21171</td>\n",
              "      <td>7.2500</td>\n",
              "      <td>NaN</td>\n",
              "      <td>S</td>\n",
              "      <td>(-0.001, 7.75]</td>\n",
              "    </tr>\n",
              "    <tr>\n",
              "      <th>1</th>\n",
              "      <td>2</td>\n",
              "      <td>1</td>\n",
              "      <td>1</td>\n",
              "      <td>Cumings, Mrs. John Bradley (Florence Briggs Th...</td>\n",
              "      <td>female</td>\n",
              "      <td>38.0</td>\n",
              "      <td>1</td>\n",
              "      <td>0</td>\n",
              "      <td>PC 17599</td>\n",
              "      <td>71.2833</td>\n",
              "      <td>C85</td>\n",
              "      <td>C</td>\n",
              "      <td>(56.929, 512.329]</td>\n",
              "    </tr>\n",
              "    <tr>\n",
              "      <th>2</th>\n",
              "      <td>3</td>\n",
              "      <td>1</td>\n",
              "      <td>3</td>\n",
              "      <td>Heikkinen, Miss. Laina</td>\n",
              "      <td>female</td>\n",
              "      <td>26.0</td>\n",
              "      <td>0</td>\n",
              "      <td>0</td>\n",
              "      <td>STON/O2. 3101282</td>\n",
              "      <td>7.9250</td>\n",
              "      <td>NaN</td>\n",
              "      <td>S</td>\n",
              "      <td>(7.75, 8.05]</td>\n",
              "    </tr>\n",
              "    <tr>\n",
              "      <th>3</th>\n",
              "      <td>4</td>\n",
              "      <td>1</td>\n",
              "      <td>1</td>\n",
              "      <td>Futrelle, Mrs. Jacques Heath (Lily May Peel)</td>\n",
              "      <td>female</td>\n",
              "      <td>35.0</td>\n",
              "      <td>1</td>\n",
              "      <td>0</td>\n",
              "      <td>113803</td>\n",
              "      <td>53.1000</td>\n",
              "      <td>C123</td>\n",
              "      <td>S</td>\n",
              "      <td>(27.9, 56.929]</td>\n",
              "    </tr>\n",
              "    <tr>\n",
              "      <th>4</th>\n",
              "      <td>5</td>\n",
              "      <td>0</td>\n",
              "      <td>3</td>\n",
              "      <td>Allen, Mr. William Henry</td>\n",
              "      <td>male</td>\n",
              "      <td>35.0</td>\n",
              "      <td>0</td>\n",
              "      <td>0</td>\n",
              "      <td>373450</td>\n",
              "      <td>8.0500</td>\n",
              "      <td>NaN</td>\n",
              "      <td>S</td>\n",
              "      <td>(7.75, 8.05]</td>\n",
              "    </tr>\n",
              "  </tbody>\n",
              "</table>\n",
              "</div>"
            ],
            "text/plain": [
              "   PassengerId  Survived  Pclass  ... Cabin Embarked      Fare_quantils\n",
              "0            1         0       3  ...   NaN        S     (-0.001, 7.75]\n",
              "1            2         1       1  ...   C85        C  (56.929, 512.329]\n",
              "2            3         1       3  ...   NaN        S       (7.75, 8.05]\n",
              "3            4         1       1  ...  C123        S     (27.9, 56.929]\n",
              "4            5         0       3  ...   NaN        S       (7.75, 8.05]\n",
              "\n",
              "[5 rows x 13 columns]"
            ]
          },
          "metadata": {
            "tags": []
          },
          "execution_count": 3
        }
      ]
    },
    {
      "cell_type": "markdown",
      "metadata": {
        "id": "wn1GyC_dUnaI"
      },
      "source": [
        "###Гипотеза 1\n",
        "Формулировка: Доля выживших среди мужчин и женщин растет вместе со стоимостью билета. Меньшая доля выживших в сегменте  \"Мужчины + недорогие билеты\", наибольшая в сегменте \"Женщины + дорогие билеты\""
      ]
    },
    {
      "cell_type": "code",
      "metadata": {
        "colab": {
          "base_uri": "https://localhost:8080/",
          "height": 480
        },
        "id": "NkdF1V3gUlX3",
        "outputId": "d7385791-8d7f-4ecf-87ac-9aed6054e9f1"
      },
      "source": [
        "fare_sex = df.groupby(['Sex', 'Fare_quantils'])['Survived'].aggregate([np.mean, 'count', np.sum]).reset_index()\n",
        "fare_sex"
      ],
      "execution_count": 4,
      "outputs": [
        {
          "output_type": "execute_result",
          "data": {
            "text/html": [
              "<div>\n",
              "<style scoped>\n",
              "    .dataframe tbody tr th:only-of-type {\n",
              "        vertical-align: middle;\n",
              "    }\n",
              "\n",
              "    .dataframe tbody tr th {\n",
              "        vertical-align: top;\n",
              "    }\n",
              "\n",
              "    .dataframe thead th {\n",
              "        text-align: right;\n",
              "    }\n",
              "</style>\n",
              "<table border=\"1\" class=\"dataframe\">\n",
              "  <thead>\n",
              "    <tr style=\"text-align: right;\">\n",
              "      <th></th>\n",
              "      <th>Sex</th>\n",
              "      <th>Fare_quantils</th>\n",
              "      <th>mean</th>\n",
              "      <th>count</th>\n",
              "      <th>sum</th>\n",
              "    </tr>\n",
              "  </thead>\n",
              "  <tbody>\n",
              "    <tr>\n",
              "      <th>0</th>\n",
              "      <td>female</td>\n",
              "      <td>(-0.001, 7.75]</td>\n",
              "      <td>0.724138</td>\n",
              "      <td>29</td>\n",
              "      <td>21</td>\n",
              "    </tr>\n",
              "    <tr>\n",
              "      <th>1</th>\n",
              "      <td>female</td>\n",
              "      <td>(7.75, 8.05]</td>\n",
              "      <td>0.590909</td>\n",
              "      <td>22</td>\n",
              "      <td>13</td>\n",
              "    </tr>\n",
              "    <tr>\n",
              "      <th>2</th>\n",
              "      <td>female</td>\n",
              "      <td>(8.05, 12.475]</td>\n",
              "      <td>0.617647</td>\n",
              "      <td>34</td>\n",
              "      <td>21</td>\n",
              "    </tr>\n",
              "    <tr>\n",
              "      <th>3</th>\n",
              "      <td>female</td>\n",
              "      <td>(12.475, 19.258]</td>\n",
              "      <td>0.690909</td>\n",
              "      <td>55</td>\n",
              "      <td>38</td>\n",
              "    </tr>\n",
              "    <tr>\n",
              "      <th>4</th>\n",
              "      <td>female</td>\n",
              "      <td>(19.258, 27.9]</td>\n",
              "      <td>0.714286</td>\n",
              "      <td>56</td>\n",
              "      <td>40</td>\n",
              "    </tr>\n",
              "    <tr>\n",
              "      <th>5</th>\n",
              "      <td>female</td>\n",
              "      <td>(27.9, 56.929]</td>\n",
              "      <td>0.690476</td>\n",
              "      <td>42</td>\n",
              "      <td>29</td>\n",
              "    </tr>\n",
              "    <tr>\n",
              "      <th>6</th>\n",
              "      <td>female</td>\n",
              "      <td>(56.929, 512.329]</td>\n",
              "      <td>0.934211</td>\n",
              "      <td>76</td>\n",
              "      <td>71</td>\n",
              "    </tr>\n",
              "    <tr>\n",
              "      <th>7</th>\n",
              "      <td>male</td>\n",
              "      <td>(-0.001, 7.75]</td>\n",
              "      <td>0.072072</td>\n",
              "      <td>111</td>\n",
              "      <td>8</td>\n",
              "    </tr>\n",
              "    <tr>\n",
              "      <th>8</th>\n",
              "      <td>male</td>\n",
              "      <td>(7.75, 8.05]</td>\n",
              "      <td>0.130081</td>\n",
              "      <td>123</td>\n",
              "      <td>16</td>\n",
              "    </tr>\n",
              "    <tr>\n",
              "      <th>9</th>\n",
              "      <td>male</td>\n",
              "      <td>(8.05, 12.475]</td>\n",
              "      <td>0.156250</td>\n",
              "      <td>64</td>\n",
              "      <td>10</td>\n",
              "    </tr>\n",
              "    <tr>\n",
              "      <th>10</th>\n",
              "      <td>male</td>\n",
              "      <td>(12.475, 19.258]</td>\n",
              "      <td>0.191781</td>\n",
              "      <td>73</td>\n",
              "      <td>14</td>\n",
              "    </tr>\n",
              "    <tr>\n",
              "      <th>11</th>\n",
              "      <td>male</td>\n",
              "      <td>(19.258, 27.9]</td>\n",
              "      <td>0.236111</td>\n",
              "      <td>72</td>\n",
              "      <td>17</td>\n",
              "    </tr>\n",
              "    <tr>\n",
              "      <th>12</th>\n",
              "      <td>male</td>\n",
              "      <td>(27.9, 56.929]</td>\n",
              "      <td>0.337349</td>\n",
              "      <td>83</td>\n",
              "      <td>28</td>\n",
              "    </tr>\n",
              "    <tr>\n",
              "      <th>13</th>\n",
              "      <td>male</td>\n",
              "      <td>(56.929, 512.329]</td>\n",
              "      <td>0.313725</td>\n",
              "      <td>51</td>\n",
              "      <td>16</td>\n",
              "    </tr>\n",
              "  </tbody>\n",
              "</table>\n",
              "</div>"
            ],
            "text/plain": [
              "       Sex      Fare_quantils      mean  count  sum\n",
              "0   female     (-0.001, 7.75]  0.724138     29   21\n",
              "1   female       (7.75, 8.05]  0.590909     22   13\n",
              "2   female     (8.05, 12.475]  0.617647     34   21\n",
              "3   female   (12.475, 19.258]  0.690909     55   38\n",
              "4   female     (19.258, 27.9]  0.714286     56   40\n",
              "5   female     (27.9, 56.929]  0.690476     42   29\n",
              "6   female  (56.929, 512.329]  0.934211     76   71\n",
              "7     male     (-0.001, 7.75]  0.072072    111    8\n",
              "8     male       (7.75, 8.05]  0.130081    123   16\n",
              "9     male     (8.05, 12.475]  0.156250     64   10\n",
              "10    male   (12.475, 19.258]  0.191781     73   14\n",
              "11    male     (19.258, 27.9]  0.236111     72   17\n",
              "12    male     (27.9, 56.929]  0.337349     83   28\n",
              "13    male  (56.929, 512.329]  0.313725     51   16"
            ]
          },
          "metadata": {
            "tags": []
          },
          "execution_count": 4
        }
      ]
    },
    {
      "cell_type": "code",
      "metadata": {
        "colab": {
          "base_uri": "https://localhost:8080/",
          "height": 608
        },
        "id": "sphIJ6YhikN-",
        "outputId": "b7aec121-d12c-426a-c2a8-31d65a02468e"
      },
      "source": [
        "fare_sex.pivot(index='Fare_quantils', values='mean', columns='Sex').plot(kind='barh', stacked=False, figsize=(20, 10), grid=True)"
      ],
      "execution_count": 5,
      "outputs": [
        {
          "output_type": "execute_result",
          "data": {
            "text/plain": [
              "<matplotlib.axes._subplots.AxesSubplot at 0x7f8e2f2be850>"
            ]
          },
          "metadata": {
            "tags": []
          },
          "execution_count": 5
        },
        {
          "output_type": "display_data",
          "data": {
            "image/png": "[encoded data removed]",
            "text/plain": [
              "<Figure size 1440x720 with 1 Axes>"
            ]
          },
          "metadata": {
            "tags": [],
            "needs_background": "light"
          }
        }
      ]
    },
    {
      "cell_type": "markdown",
      "metadata": {
        "id": "DIsXBiUmlrhj"
      },
      "source": [
        "Вывод: В целом предположение подтвержается, вместе с ценой билета растут шансы на выживание как среди мужчин, так и среди женщин. Исключением является сегмент \"Женщины + недорогие билеты\", в котором относительно высокая доля выживших обусловлена другими причинами."
      ]
    },
    {
      "cell_type": "markdown",
      "metadata": {
        "id": "jZ3aionvupw_"
      },
      "source": [
        "###Гипотеза 2\n",
        "Формулировка: Доля выживших в различных возрастных группах растет вместе со стоимостью билета. Меньшая доля выживших в сегменте  \"Старший возраст + недорогие билеты\", наибольшая в сегменте \"Младший возраст + дорогие билеты\""
      ]
    },
    {
      "cell_type": "code",
      "metadata": {
        "colab": {
          "base_uri": "https://localhost:8080/",
          "height": 202
        },
        "id": "Aj1eAO5ENlGk",
        "outputId": "75492ea9-2de9-4ed3-cc24-3fb389f24319"
      },
      "source": [
        "age = pd.cut(df['Age'], [0, 18, 40, 80])\n",
        "fare_age = df.groupby([age, 'Fare_quantils'])['Survived'].aggregate([np.mean, 'count', np.sum]).reset_index()\n",
        "fare_age.tail()"
      ],
      "execution_count": 6,
      "outputs": [
        {
          "output_type": "execute_result",
          "data": {
            "text/html": [
              "<div>\n",
              "<style scoped>\n",
              "    .dataframe tbody tr th:only-of-type {\n",
              "        vertical-align: middle;\n",
              "    }\n",
              "\n",
              "    .dataframe tbody tr th {\n",
              "        vertical-align: top;\n",
              "    }\n",
              "\n",
              "    .dataframe thead th {\n",
              "        text-align: right;\n",
              "    }\n",
              "</style>\n",
              "<table border=\"1\" class=\"dataframe\">\n",
              "  <thead>\n",
              "    <tr style=\"text-align: right;\">\n",
              "      <th></th>\n",
              "      <th>Age</th>\n",
              "      <th>Fare_quantils</th>\n",
              "      <th>mean</th>\n",
              "      <th>count</th>\n",
              "      <th>sum</th>\n",
              "    </tr>\n",
              "  </thead>\n",
              "  <tbody>\n",
              "    <tr>\n",
              "      <th>16</th>\n",
              "      <td>(40, 80]</td>\n",
              "      <td>(8.05, 12.475]</td>\n",
              "      <td>0.363636</td>\n",
              "      <td>11</td>\n",
              "      <td>4</td>\n",
              "    </tr>\n",
              "    <tr>\n",
              "      <th>17</th>\n",
              "      <td>(40, 80]</td>\n",
              "      <td>(12.475, 19.258]</td>\n",
              "      <td>0.222222</td>\n",
              "      <td>18</td>\n",
              "      <td>4</td>\n",
              "    </tr>\n",
              "    <tr>\n",
              "      <th>18</th>\n",
              "      <td>(40, 80]</td>\n",
              "      <td>(19.258, 27.9]</td>\n",
              "      <td>0.433333</td>\n",
              "      <td>30</td>\n",
              "      <td>13</td>\n",
              "    </tr>\n",
              "    <tr>\n",
              "      <th>19</th>\n",
              "      <td>(40, 80]</td>\n",
              "      <td>(27.9, 56.929]</td>\n",
              "      <td>0.310345</td>\n",
              "      <td>29</td>\n",
              "      <td>9</td>\n",
              "    </tr>\n",
              "    <tr>\n",
              "      <th>20</th>\n",
              "      <td>(40, 80]</td>\n",
              "      <td>(56.929, 512.329]</td>\n",
              "      <td>0.638889</td>\n",
              "      <td>36</td>\n",
              "      <td>23</td>\n",
              "    </tr>\n",
              "  </tbody>\n",
              "</table>\n",
              "</div>"
            ],
            "text/plain": [
              "         Age      Fare_quantils      mean  count  sum\n",
              "16  (40, 80]     (8.05, 12.475]  0.363636     11    4\n",
              "17  (40, 80]   (12.475, 19.258]  0.222222     18    4\n",
              "18  (40, 80]     (19.258, 27.9]  0.433333     30   13\n",
              "19  (40, 80]     (27.9, 56.929]  0.310345     29    9\n",
              "20  (40, 80]  (56.929, 512.329]  0.638889     36   23"
            ]
          },
          "metadata": {
            "tags": []
          },
          "execution_count": 6
        }
      ]
    },
    {
      "cell_type": "code",
      "metadata": {
        "id": "CB30W4OtCcxl",
        "colab": {
          "base_uri": "https://localhost:8080/",
          "height": 608
        },
        "outputId": "823ae82f-86ce-474b-cf16-3380f813dcef"
      },
      "source": [
        "fare_age.pivot(index='Fare_quantils', values='mean', columns='Age').plot(kind='barh', stacked=False, figsize=(20, 10), grid=True)"
      ],
      "execution_count": 7,
      "outputs": [
        {
          "output_type": "execute_result",
          "data": {
            "text/plain": [
              "<matplotlib.axes._subplots.AxesSubplot at 0x7f8e2f2e9a50>"
            ]
          },
          "metadata": {
            "tags": []
          },
          "execution_count": 7
        },
        {
          "output_type": "display_data",
          "data": {
            "image/png": "[encoded data removed]",
            "text/plain": [
              "<Figure size 1440x720 with 1 Axes>"
            ]
          },
          "metadata": {
            "tags": [],
            "needs_background": "light"
          }
        }
      ]
    },
    {
      "cell_type": "markdown",
      "metadata": {
        "id": "qvszkjIPO0iJ"
      },
      "source": [
        "Вывод: В целом предположение подтвержается, вместе с ценой билета растут шансы на выживание во всех возрастных группах."
      ]
    },
    {
      "cell_type": "markdown",
      "metadata": {
        "id": "dLnPcLPZQBTD"
      },
      "source": [
        "###Гипотеза 3\n",
        "Формулировка: Доля выживших внутри групп пассажиров с одинаковым местом посадки растет вместе со стоимостью билета."
      ]
    },
    {
      "cell_type": "code",
      "metadata": {
        "colab": {
          "base_uri": "https://localhost:8080/",
          "height": 202
        },
        "id": "U00LhduSNdnb",
        "outputId": "887a2c8a-bb51-4b19-9d76-d1ffd6e12e15"
      },
      "source": [
        "fare_embarked = df.groupby(['Embarked', 'Fare_quantils'])['Survived'].aggregate([np.mean, 'count', np.sum]).reset_index()\n",
        "fare_embarked.tail()"
      ],
      "execution_count": 8,
      "outputs": [
        {
          "output_type": "execute_result",
          "data": {
            "text/html": [
              "<div>\n",
              "<style scoped>\n",
              "    .dataframe tbody tr th:only-of-type {\n",
              "        vertical-align: middle;\n",
              "    }\n",
              "\n",
              "    .dataframe tbody tr th {\n",
              "        vertical-align: top;\n",
              "    }\n",
              "\n",
              "    .dataframe thead th {\n",
              "        text-align: right;\n",
              "    }\n",
              "</style>\n",
              "<table border=\"1\" class=\"dataframe\">\n",
              "  <thead>\n",
              "    <tr style=\"text-align: right;\">\n",
              "      <th></th>\n",
              "      <th>Embarked</th>\n",
              "      <th>Fare_quantils</th>\n",
              "      <th>mean</th>\n",
              "      <th>count</th>\n",
              "      <th>sum</th>\n",
              "    </tr>\n",
              "  </thead>\n",
              "  <tbody>\n",
              "    <tr>\n",
              "      <th>16</th>\n",
              "      <td>S</td>\n",
              "      <td>(8.05, 12.475]</td>\n",
              "      <td>0.287356</td>\n",
              "      <td>87</td>\n",
              "      <td>25</td>\n",
              "    </tr>\n",
              "    <tr>\n",
              "      <th>17</th>\n",
              "      <td>S</td>\n",
              "      <td>(12.475, 19.258]</td>\n",
              "      <td>0.377778</td>\n",
              "      <td>90</td>\n",
              "      <td>34</td>\n",
              "    </tr>\n",
              "    <tr>\n",
              "      <th>18</th>\n",
              "      <td>S</td>\n",
              "      <td>(19.258, 27.9]</td>\n",
              "      <td>0.441441</td>\n",
              "      <td>111</td>\n",
              "      <td>49</td>\n",
              "    </tr>\n",
              "    <tr>\n",
              "      <th>19</th>\n",
              "      <td>S</td>\n",
              "      <td>(27.9, 56.929]</td>\n",
              "      <td>0.445652</td>\n",
              "      <td>92</td>\n",
              "      <td>41</td>\n",
              "    </tr>\n",
              "    <tr>\n",
              "      <th>20</th>\n",
              "      <td>S</td>\n",
              "      <td>(56.929, 512.329]</td>\n",
              "      <td>0.600000</td>\n",
              "      <td>65</td>\n",
              "      <td>39</td>\n",
              "    </tr>\n",
              "  </tbody>\n",
              "</table>\n",
              "</div>"
            ],
            "text/plain": [
              "   Embarked      Fare_quantils      mean  count  sum\n",
              "16        S     (8.05, 12.475]  0.287356     87   25\n",
              "17        S   (12.475, 19.258]  0.377778     90   34\n",
              "18        S     (19.258, 27.9]  0.441441    111   49\n",
              "19        S     (27.9, 56.929]  0.445652     92   41\n",
              "20        S  (56.929, 512.329]  0.600000     65   39"
            ]
          },
          "metadata": {
            "tags": []
          },
          "execution_count": 8
        }
      ]
    },
    {
      "cell_type": "code",
      "metadata": {
        "colab": {
          "base_uri": "https://localhost:8080/",
          "height": 608
        },
        "id": "hEvfYU-BQz6N",
        "outputId": "b88f932b-04c9-46f0-9454-c0fe00b75a97"
      },
      "source": [
        "fare_embarked.pivot(index='Fare_quantils', values='mean', columns='Embarked').plot(kind='barh', stacked=False, figsize=(20, 10), grid=True)"
      ],
      "execution_count": 9,
      "outputs": [
        {
          "output_type": "execute_result",
          "data": {
            "text/plain": [
              "<matplotlib.axes._subplots.AxesSubplot at 0x7f8e2ec9a110>"
            ]
          },
          "metadata": {
            "tags": []
          },
          "execution_count": 9
        },
        {
          "output_type": "display_data",
          "data": {
            "image/png": "[encoded data removed]",
            "text/plain": [
              "<Figure size 1440x720 with 1 Axes>"
            ]
          },
          "metadata": {
            "tags": [],
            "needs_background": "light"
          }
        }
      ]
    },
    {
      "cell_type": "markdown",
      "metadata": {
        "id": "NK_67B9ma-E6"
      },
      "source": [
        "Вывод: Для портов Queenstown и Cherbourg гипотеза не подтвеждается в полной мере, возможно это связано с относительно небольшим количеством пассажиров из этих локаций, возможно с особенностями размещения на судне. Для 644 пассажиров из Southampton гипотеза подтверждена."
      ]
    },
    {
      "cell_type": "markdown",
      "metadata": {
        "id": "genPckcHZhVZ"
      },
      "source": [
        "##Вывод исследования:\n",
        "С помощью проверки данных 3х гипотез можно сделать выводы:\n",
        "- признак \"Стоимость билета\" в большой мере объясняет причины выживаемости на Титанике\n",
        "- кросс-признаковый характер формулирования гипотез показал, что существуют другие причины, влияющие на целевую переменную"
      ]
    }
  ]
}