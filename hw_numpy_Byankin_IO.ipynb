{
  "nbformat": 4,
  "nbformat_minor": 0,
  "metadata": {
    "colab": {
      "name": "hw_numpy_Byankin_IO.ipynb",
      "provenance": [],
      "collapsed_sections": []
    },
    "kernelspec": {
      "name": "python3",
      "display_name": "Python 3"
    },
    "language_info": {
      "name": "python"
    }
  },
  "cells": [
    {
      "cell_type": "code",
      "metadata": {
        "id": "1IB9ESDE1OfE"
      },
      "source": [
        "import numpy as np\n",
        "import time\n",
        "import matplotlib.pyplot as plt\n",
        "%matplotlib inline\n",
        "\n",
        "plt.style.use('seaborn-ticks')\n",
        "params = {'legend.fontsize': 20, 'figure.figsize': (15, 10), 'lines.linewidth' : 3,\n",
        "          'axes.labelsize': 20, 'axes.titlesize': 30, \n",
        "          'xtick.labelsize': 15, 'ytick.labelsize': 15}\n",
        "plt.rcParams.update(params)"
      ],
      "execution_count": 1,
      "outputs": []
    },
    {
      "cell_type": "markdown",
      "metadata": {
        "id": "UuaLUNqP0Qk8"
      },
      "source": [
        "\n",
        "##Упражнение 1\n",
        "На одном графике изобразите время затраченное на вычисление с использованием массивов numpy и стандартных списков в питоне.\n",
        "Для более точных результатов замеряйте время выполнения функции несколько раз и усредняйте.\n",
        "\n",
        "- Используйте функцию z = 2*x**2 + 4*y\n",
        "- Перемножение матриц размера n на n"
      ]
    },
    {
      "cell_type": "code",
      "metadata": {
        "id": "IctOIQnbSYhC"
      },
      "source": [
        "def python_linear(X, Y):\n",
        "  for trial in range(10):\n",
        "    trials = []\n",
        "    start = time.time()\n",
        "    Z = [2 * X[i]**2 + 4 * Y[i] for i in range(len(X))]\n",
        "    trials.append(time.time() - start)\n",
        "  return np.mean(trials)\n",
        "\n",
        "def numpy_linear(X, Y):\n",
        "  for trial in range(10):\n",
        "    trials = []\n",
        "    start = time.time()\n",
        "    Z = 2 * X**2 + 4 * Y\n",
        "    trials.append(time.time() - start)\n",
        "  return np.mean(trials)"
      ],
      "execution_count": 2,
      "outputs": []
    },
    {
      "cell_type": "code",
      "metadata": {
        "id": "2LivQdyGqvZI"
      },
      "source": [
        "def python_matrix_multiplication(X, Y):\n",
        "  for trial in range(10):\n",
        "    trials = []\n",
        "    start = time.time()\n",
        "\n",
        "    rows_X = len(X)\n",
        "    cols_X = len(X[0])\n",
        "    rows_Y = len(Y)\n",
        "    cols_Y = len(Y[0])\n",
        "\n",
        "    if cols_X != rows_Y:\n",
        "      return\n",
        "\n",
        "    Z = [[0 for row in range(cols_Y)] for col in range(rows_X)]\n",
        "\n",
        "    for i in range(rows_X):\n",
        "        for j in range(cols_Y):\n",
        "            for k in range(cols_X):\n",
        "                Z[i][j] += X[i][k] * Y[k][j]\n",
        "    \n",
        "    trials.append(time.time() - start)\n",
        "  return np.mean(trials)\n",
        "\n",
        "def numpy_matrix_multiplication(X, Y):\n",
        "  for trial in range(10):\n",
        "    trials = []\n",
        "    start = time.time()\n",
        "    Z = np.dot(X, Y)\n",
        "    trials.append(time.time() - start)\n",
        "  return np.mean(trials)"
      ],
      "execution_count": 3,
      "outputs": []
    },
    {
      "cell_type": "code",
      "metadata": {
        "id": "392UBFKAYqPJ"
      },
      "source": [
        "python_linear_results = []\n",
        "numpy_linear_results = []\n",
        "python_matrix_multiplication_results = []\n",
        "numpy_matrix_multiplication_results = []\n",
        "vec_sizes = np.arange(10000, 50001, 5000)\n",
        "for size_of_vec in vec_sizes:\n",
        "  X = np.random.random(size_of_vec)\n",
        "  Y = np.random.random(size_of_vec)\n",
        "  python_linear_results.append(python_linear(X, Y))\n",
        "  numpy_linear_results.append(numpy_linear(X, Y))\n",
        "  X = np.random.random((size_of_vec//1000, size_of_vec//1000))\n",
        "  Y = np.random.random((size_of_vec//1000, size_of_vec//1000))\n",
        "  python_matrix_multiplication_results.append(python_matrix_multiplication(X, Y))\n",
        "  numpy_matrix_multiplication_results.append(numpy_matrix_multiplication(X, Y))"
      ],
      "execution_count": 32,
      "outputs": []
    },
    {
      "cell_type": "code",
      "metadata": {
        "colab": {
          "base_uri": "https://localhost:8080/",
          "height": 660
        },
        "id": "kQLxo62sdEX2",
        "outputId": "4ef6fdc0-cbcb-46c7-9f9e-7f02243516f7"
      },
      "source": [
        "fig, axes = plt.subplots(1, 2, figsize=(30,10))\n",
        "axes[0].plot(vec_sizes, python_linear_results, 'r', label=r'Стандартные списки в Python')\n",
        "axes[0].plot(vec_sizes, numpy_linear_results, 'b', label=r'Numpy массивы')\n",
        "axes[0].legend()\n",
        "axes[0].set_xlabel('Размер массива')\n",
        "axes[0].set_ylabel('Время вычисления')\n",
        "axes[0].set_title(r'Сравнение времени вычисления функции $z = 2x^2 + 4y$')\n",
        "\n",
        "axes[1].plot(vec_sizes//1000, python_matrix_multiplication_results, 'r', label=r'Стандартные списки в Python')\n",
        "axes[1].plot(vec_sizes//1000, numpy_matrix_multiplication_results, 'b', label=r'Numpy массивы')\n",
        "axes[1].legend()\n",
        "axes[1].set_xlabel('n')\n",
        "axes[1].set_ylabel('Время вычисления')\n",
        "axes[1].set_title(r'Сравнение времени вычисления перемножения матриц размера $n * n$')\n",
        "plt.show()"
      ],
      "execution_count": 33,
      "outputs": [
        {
          "output_type": "display_data",
          "data": {
            "image/png": "[encoded data removed]",
            "text/plain": [
              "<Figure size 2160x720 with 2 Axes>"
            ]
          },
          "metadata": {
            "tags": [],
            "needs_background": "light"
          }
        }
      ]
    },
    {
      "cell_type": "markdown",
      "metadata": {
        "id": "mYvnv6pj2AVg"
      },
      "source": [
        "\n",
        "##Упражнение 2\n",
        "- Создайте массив чисел от 2 до 75. Выведите только нечётные.\n",
        "- Присвойте нечётным числам этого массива значение -1."
      ]
    },
    {
      "cell_type": "code",
      "metadata": {
        "colab": {
          "base_uri": "https://localhost:8080/"
        },
        "id": "WSk9lkvm2et4",
        "outputId": "1226aa23-39da-4a26-b714-376d2491b2cf"
      },
      "source": [
        "arr = np.arange(2, 76)\n",
        "arr[1::2]"
      ],
      "execution_count": 10,
      "outputs": [
        {
          "output_type": "execute_result",
          "data": {
            "text/plain": [
              "array([ 3,  5,  7,  9, 11, 13, 15, 17, 19, 21, 23, 25, 27, 29, 31, 33, 35,\n",
              "       37, 39, 41, 43, 45, 47, 49, 51, 53, 55, 57, 59, 61, 63, 65, 67, 69,\n",
              "       71, 73, 75])"
            ]
          },
          "metadata": {
            "tags": []
          },
          "execution_count": 10
        }
      ]
    },
    {
      "cell_type": "code",
      "metadata": {
        "colab": {
          "base_uri": "https://localhost:8080/"
        },
        "id": "DUbEhuXP4ZcV",
        "outputId": "4e5ee10f-f81d-4502-975f-efa89701b61f"
      },
      "source": [
        "arr[np.where(arr % 2 == 1)] = -1\n",
        "arr"
      ],
      "execution_count": 5,
      "outputs": [
        {
          "output_type": "execute_result",
          "data": {
            "text/plain": [
              "array([ 2, -1,  4, -1,  6, -1,  8, -1, 10, -1, 12, -1, 14, -1, 16, -1, 18,\n",
              "       -1, 20, -1, 22, -1, 24, -1, 26, -1, 28, -1, 30, -1, 32, -1, 34, -1,\n",
              "       36, -1, 38, -1, 40, -1, 42, -1, 44, -1, 46, -1, 48, -1, 50, -1, 52,\n",
              "       -1, 54, -1, 56, -1, 58, -1, 60, -1, 62, -1, 64, -1, 66, -1, 68, -1,\n",
              "       70, -1, 72, -1, 74, -1])"
            ]
          },
          "metadata": {
            "tags": []
          },
          "execution_count": 5
        }
      ]
    },
    {
      "cell_type": "markdown",
      "metadata": {
        "id": "YXUXIRQB4-he"
      },
      "source": [
        "\n",
        "##Упражнение 3\n",
        "- Найдите в документации функцию, которая удаляет из одного массива элементы, которые есть в другом.\n",
        "- Приведите примеры использования."
      ]
    },
    {
      "cell_type": "code",
      "metadata": {
        "id": "20ULmD5Q4mXf",
        "colab": {
          "base_uri": "https://localhost:8080/"
        },
        "outputId": "60a942b0-3aa4-41e0-d809-78ee28248f50"
      },
      "source": [
        "# numpy.setdiff1d(ar1, ar2, assume_unique=False)\n",
        "# Find the set difference of two arrays.\n",
        "# Return the unique values in ar1 that are not in ar2.\n",
        "\n",
        "ar1 = np.arange(100)\n",
        "ar2 = np.arange(0, 100, 2)\n",
        "np.setdiff1d(ar1, ar2, assume_unique=False)"
      ],
      "execution_count": 6,
      "outputs": [
        {
          "output_type": "execute_result",
          "data": {
            "text/plain": [
              "array([ 1,  3,  5,  7,  9, 11, 13, 15, 17, 19, 21, 23, 25, 27, 29, 31, 33,\n",
              "       35, 37, 39, 41, 43, 45, 47, 49, 51, 53, 55, 57, 59, 61, 63, 65, 67,\n",
              "       69, 71, 73, 75, 77, 79, 81, 83, 85, 87, 89, 91, 93, 95, 97, 99])"
            ]
          },
          "metadata": {
            "tags": []
          },
          "execution_count": 6
        }
      ]
    },
    {
      "cell_type": "markdown",
      "metadata": {
        "id": "NmgpTQD56WgS"
      },
      "source": [
        "##Упражнение 4\n",
        "- Создайте случайную квадратную матрицу случайного размера от 10 до 100.\n",
        "- Найдите максимум и сумму элементов.\n",
        "- Поделите каждый элемент матрицы на максимум.\n",
        "- Отнимите от каждой строки матрицы среднее по строке.\n",
        "- Замените максимальное значение на -1."
      ]
    },
    {
      "cell_type": "code",
      "metadata": {
        "id": "HoK1gBV36i28"
      },
      "source": [
        "size = np.random.randint(10, 101)\n",
        "arr = np.random.random((size, size))\n",
        "arr_max = arr.max()\n",
        "arr_sum = arr.sum()\n",
        "arr = arr / arr_max\n",
        "arr -= arr.mean(axis=1, keepdims=True)\n",
        "arr[arr == arr.max()] = -1"
      ],
      "execution_count": 2,
      "outputs": []
    },
    {
      "cell_type": "markdown",
      "metadata": {
        "id": "PXKov50N67cg"
      },
      "source": [
        "##Упражнение 5\n",
        "- Напишите функцию, которая берет многомерный вещественный массив с пропущенными значениями (np.nan) и возвращает его копию с заполненными пропусками (заменять средним значением всех элементов массива). Если в массиве одни пропущенные значения, заполните их нулями."
      ]
    },
    {
      "cell_type": "code",
      "metadata": {
        "id": "1P_82x_b7A7x"
      },
      "source": [
        "def replace_nan_to_mean(arr):\n",
        "  if np.isnan(arr).sum() / arr.size == 1:\n",
        "    arr[np.isnan(arr)] = 0\n",
        "  else:\n",
        "    arr[np.isnan(arr)] = np.nanmean(arr)\n",
        "  return arr"
      ],
      "execution_count": 71,
      "outputs": []
    },
    {
      "cell_type": "markdown",
      "metadata": {
        "id": "LNRDrLyQ7PC_"
      },
      "source": [
        "##Упражнение 6\n",
        "- Напишите функцию которая нормализирует заданный numpy-массив, так чтобы его значения лежали в интервале $[0, 1]$."
      ]
    },
    {
      "cell_type": "code",
      "metadata": {
        "id": "7XIxw5q97UYy"
      },
      "source": [
        "def normalize(arr):\n",
        "  return (arr - arr.min()) / (arr.max() - arr.min())"
      ],
      "execution_count": null,
      "outputs": []
    },
    {
      "cell_type": "markdown",
      "metadata": {
        "id": "Qf0N6ksN_h8m"
      },
      "source": [
        "##Упражнение 7\n",
        "- Запишите numpy-array в файл.\n",
        "- Считайте numpy-array из файла."
      ]
    },
    {
      "cell_type": "code",
      "metadata": {
        "id": "LAlzfZhJ8ta_",
        "colab": {
          "base_uri": "https://localhost:8080/"
        },
        "outputId": "9d494e54-d94d-43da-ee33-1d78ecc56b84"
      },
      "source": [
        "np.save('array', np.array([1, 2, 3]))\n",
        "arr = np.load('array.npy')\n",
        "arr"
      ],
      "execution_count": 87,
      "outputs": [
        {
          "output_type": "execute_result",
          "data": {
            "text/plain": [
              "array([1, 2, 3])"
            ]
          },
          "metadata": {
            "tags": []
          },
          "execution_count": 87
        }
      ]
    },
    {
      "cell_type": "markdown",
      "metadata": {
        "id": "TL_fNoTg_oAi"
      },
      "source": [
        "##Упражнение 8\n",
        "- Создайте случайный массив\n",
        "- Найдите в массиве элемент ближайший к данному"
      ]
    },
    {
      "cell_type": "code",
      "metadata": {
        "colab": {
          "base_uri": "https://localhost:8080/"
        },
        "id": "ivX1mnJsiheF",
        "outputId": "5c5b2422-cb3d-4045-92c8-ae69e825f20c"
      },
      "source": [
        "arr = np.random.random((np.random.randint(10, 101)))\n",
        "value = .5\n",
        "arr[(np.abs(arr - value)).argmin()]"
      ],
      "execution_count": 8,
      "outputs": [
        {
          "output_type": "execute_result",
          "data": {
            "text/plain": [
              "0.5222513466091661"
            ]
          },
          "metadata": {
            "tags": []
          },
          "execution_count": 8
        }
      ]
    },
    {
      "cell_type": "markdown",
      "metadata": {
        "id": "fAKhcVd1_7M-"
      },
      "source": [
        "##Упражнение 9\n",
        "- Напишите функцию, которая возвращает $n \\times m$ целочисленную матрицу с заданным значением на границах матрицы и с заданным значением внутри"
      ]
    },
    {
      "cell_type": "code",
      "metadata": {
        "id": "KTalPbpJ_wDJ",
        "colab": {
          "base_uri": "https://localhost:8080/"
        },
        "outputId": "1f7b30a9-4cbf-4468-963a-68b78579e9f9"
      },
      "source": [
        "def border_array(n, m, outer_value, inner_value):\n",
        "  arr = np.zeros((n, m), dtype=int)\n",
        "  arr[:] = outer_value\n",
        "  arr[1:-1, 1:-1] = inner_value\n",
        "  return arr\n",
        "\n",
        "outer_value, inner_value = np.random.randint(1000), np.random.randint(1000)\n",
        "n, m = np.random.randint(3, 10), np.random.randint(3, 10)\n",
        "border_array(n, m, outer_value, inner_value)"
      ],
      "execution_count": 7,
      "outputs": [
        {
          "output_type": "execute_result",
          "data": {
            "text/plain": [
              "array([[ 81,  81,  81,  81,  81,  81],\n",
              "       [ 81, 151, 151, 151, 151,  81],\n",
              "       [ 81, 151, 151, 151, 151,  81],\n",
              "       [ 81, 151, 151, 151, 151,  81],\n",
              "       [ 81, 151, 151, 151, 151,  81],\n",
              "       [ 81, 151, 151, 151, 151,  81],\n",
              "       [ 81, 151, 151, 151, 151,  81],\n",
              "       [ 81, 151, 151, 151, 151,  81],\n",
              "       [ 81,  81,  81,  81,  81,  81]])"
            ]
          },
          "metadata": {
            "tags": []
          },
          "execution_count": 7
        }
      ]
    },
    {
      "cell_type": "markdown",
      "metadata": {
        "id": "s0MLg5xW__GN"
      },
      "source": [
        "##Упражнение 10\n",
        "- Напишите функцию, которая сортирует строки данной матрицы по значениям заданного столбца в порядке убывания."
      ]
    },
    {
      "cell_type": "code",
      "metadata": {
        "id": "iSmEw0yvAEGC"
      },
      "source": [
        "def sort_rows_by_col(arr, col):\n",
        "  return arr[arr[:, col].argsort()][::-1]"
      ],
      "execution_count": 18,
      "outputs": []
    },
    {
      "cell_type": "markdown",
      "metadata": {
        "id": "0jYYr7KzAKba"
      },
      "source": [
        "##Упражнение 11\n",
        "- Напишите функцию, которая создает двоичную матрицу шахматной доски с заданным shape"
      ]
    },
    {
      "cell_type": "code",
      "metadata": {
        "id": "FcwnVbpnAMjy",
        "colab": {
          "base_uri": "https://localhost:8080/"
        },
        "outputId": "573f3e87-e5fa-4d4b-ed09-81881a6cd894"
      },
      "source": [
        "def chess_arr(shape):\n",
        "  arr = np.zeros((shape, shape), dtype=int)\n",
        "  arr[1::2, ::2] = 1\n",
        "  arr[::2, 1::2] = 1\n",
        "  return arr\n",
        "\n",
        "chess_arr(7)"
      ],
      "execution_count": 19,
      "outputs": [
        {
          "output_type": "execute_result",
          "data": {
            "text/plain": [
              "array([[0, 1, 0, 1, 0, 1, 0],\n",
              "       [1, 0, 1, 0, 1, 0, 1],\n",
              "       [0, 1, 0, 1, 0, 1, 0],\n",
              "       [1, 0, 1, 0, 1, 0, 1],\n",
              "       [0, 1, 0, 1, 0, 1, 0],\n",
              "       [1, 0, 1, 0, 1, 0, 1],\n",
              "       [0, 1, 0, 1, 0, 1, 0]])"
            ]
          },
          "metadata": {
            "tags": []
          },
          "execution_count": 19
        }
      ]
    },
    {
      "cell_type": "markdown",
      "metadata": {
        "id": "2F2iQTynANjm"
      },
      "source": [
        "##Упражнение 12\n",
        "- Напишите игру [life](https://en.wikipedia.org/wiki/Conway%27s_Game_of_Life), используя массивы numpy.\n",
        "- Визуализируйте интерактивно ее результаты."
      ]
    },
    {
      "cell_type": "code",
      "metadata": {
        "id": "mwYnFBsALjbf"
      },
      "source": [
        "def next_state(world):\n",
        "    # число соседей для каждой клетки;\n",
        "    neighbours = np.zeros(world.shape)\n",
        "    neighbours[1:, 1:] += world[:-1, :-1]\n",
        "    neighbours[1:, :-1] += world[:-1, 1:]\n",
        "    neighbours[:-1, 1:] += world[1:, :-1]\n",
        "    neighbours[:-1, :-1] += world[1:, 1:]\n",
        "    neighbours[:-1, :] += world[1:, :]\n",
        "    neighbours[1:, :] += world[:-1, :]\n",
        "    neighbours[:, :-1] += world[:, 1:]\n",
        "    neighbours[:, 1:] += world[:, :-1]\n",
        "    # если у живой клетки соседей меньше двух или больше трёх, клетка умирает («от одиночества» или «от перенаселённости»);\n",
        "    extinction = ((world == 1) & (neighbours < 4) & (neighbours > 1))\n",
        "    # в пустой (мёртвой) клетке, рядом с которой ровно три живые клетки, зарождается жизнь;\n",
        "    alive = ((world == 0) & (neighbours == 3))\n",
        "    return (extinction | alive).astype(int)"
      ],
      "execution_count": 91,
      "outputs": []
    },
    {
      "cell_type": "code",
      "metadata": {
        "colab": {
          "base_uri": "https://localhost:8080/",
          "height": 597
        },
        "id": "mgFs46_DAAtf",
        "outputId": "ab469be1-ad42-4f83-f6c9-f0910b259100"
      },
      "source": [
        "from IPython import display\n",
        "arr = np.random.randint(2, size=(10, 10))\n",
        "for i in range(10):    \n",
        "    fig = plt.figure(figsize=(10, 10))\n",
        "    plt.imshow(arr)\n",
        "    plt.show()\n",
        "    arr = next_state(arr) \n",
        "    display.clear_output(wait=True)\n",
        "    time.sleep(0.5)"
      ],
      "execution_count": 93,
      "outputs": [
        {
          "output_type": "display_data",
          "data": {
            "image/png": "[encoded data removed]",
            "text/plain": [
              "<Figure size 720x720 with 1 Axes>"
            ]
          },
          "metadata": {
            "tags": [],
            "needs_background": "light"
          }
        }
      ]
    }
  ]
}